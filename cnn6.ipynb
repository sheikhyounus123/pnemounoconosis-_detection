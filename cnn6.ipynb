{
  "nbformat": 4,
  "nbformat_minor": 0,
  "metadata": {
    "colab": {
      "provenance": [],
      "authorship_tag": "ABX9TyNU3nYavzanKI5epWR0roI+",
      "include_colab_link": true
    },
    "kernelspec": {
      "name": "python3",
      "display_name": "Python 3"
    },
    "language_info": {
      "name": "python"
    }
  },
  "cells": [
    {
      "cell_type": "markdown",
      "metadata": {
        "id": "view-in-github",
        "colab_type": "text"
      },
      "source": [
        "<a href=\"https://colab.research.google.com/github/sheikhyounus123/pnemounoconosis-_detection/blob/main/cnn6.ipynb\" target=\"_parent\"><img src=\"https://colab.research.google.com/assets/colab-badge.svg\" alt=\"Open In Colab\"/></a>"
      ]
    },
    {
      "cell_type": "code",
      "source": [
        "# Step 1: Import necessary libraries\n",
        "import os\n",
        "import numpy as np\n",
        "import tensorflow as tf\n",
        "from tensorflow.keras.models import Sequential\n",
        "from tensorflow.keras.layers import Conv2D, MaxPooling2D, Flatten, Dense, Dropout\n",
        "from tensorflow.keras.preprocessing import image_dataset_from_directory\n",
        "from tensorflow.keras.callbacks import ModelCheckpoint\n",
        "from sklearn.model_selection import train_test_split\n",
        "import matplotlib.pyplot as plt\n",
        "from google.colab import drive\n"
      ],
      "metadata": {
        "id": "Fkg5X_0B3HA3"
      },
      "execution_count": null,
      "outputs": []
    },
    {
      "cell_type": "code",
      "source": [
        "# Step 2: Mount Google Drive to save and load the model\n",
        "drive.mount('/content/drive')\n"
      ],
      "metadata": {
        "colab": {
          "base_uri": "https://localhost:8080/"
        },
        "id": "mv1lS97F3Imd",
        "outputId": "e38d399a-1381-41aa-ad59-d05f92216ef6"
      },
      "execution_count": null,
      "outputs": [
        {
          "output_type": "stream",
          "name": "stdout",
          "text": [
            "Mounted at /content/drive\n"
          ]
        }
      ]
    },
    {
      "cell_type": "code",
      "source": [
        "# Global Variables\n",
        "img_width, img_height = 150, 150\n",
        "batch_size = 16\n",
        "epochs = 25\n",
        "data_dir = '/content/drive/MyDrive/data and models/data/chest'  # Path to dataset (infected and non_infected subfolders)\n"
      ],
      "metadata": {
        "id": "dLojuexI3If2"
      },
      "execution_count": null,
      "outputs": []
    },
    {
      "cell_type": "code",
      "source": [
        "# Step 3: Load all data from the directory (infected and non_infected subfolders)\n",
        "dataset = image_dataset_from_directory(\n",
        "    data_dir,\n",
        "    image_size=(img_width, img_height),\n",
        "    batch_size=batch_size,\n",
        "    label_mode='binary',  # Binary classification (infected and non-infected)\n",
        "    shuffle=True  # Shuffle the data\n",
        ")\n",
        "\n",
        "# Step 4: Split the dataset into training (80%) and validation (20%)\n",
        "dataset_size = len(dataset)\n",
        "train_size = int(0.8 * dataset_size)\n",
        "validation_size = dataset_size - train_size\n",
        "\n",
        "# Splitting the dataset\n",
        "train_dataset = dataset.take(train_size)\n",
        "validation_dataset = dataset.skip(train_size)\n"
      ],
      "metadata": {
        "colab": {
          "base_uri": "https://localhost:8080/"
        },
        "id": "g0a-VMFG3IWt",
        "outputId": "9fb6ddf6-75c5-40e9-e143-5e6fbc94b9c7"
      },
      "execution_count": null,
      "outputs": [
        {
          "output_type": "stream",
          "name": "stdout",
          "text": [
            "Found 940 files belonging to 2 classes.\n"
          ]
        }
      ]
    },
    {
      "cell_type": "code",
      "source": [
        "# Step 5: Data Augmentation Block\n",
        "data_augmentation = Sequential([\n",
        "    tf.keras.layers.RandomFlip(\"horizontal\"),  # Randomly flip images horizontally\n",
        "    tf.keras.layers.RandomRotation(0.1),  # Random rotation\n",
        "    tf.keras.layers.RandomZoom(0.1)  # Random zoom\n",
        "])\n"
      ],
      "metadata": {
        "id": "xK_Rszk53INN"
      },
      "execution_count": null,
      "outputs": []
    },
    {
      "cell_type": "code",
      "source": [
        "# Step 6: Define the CNN Model\n",
        "model = Sequential([\n",
        "    data_augmentation,  # Apply data augmentation on the input images\n",
        "    Conv2D(32, (3, 3), activation='relu', input_shape=(img_width, img_height, 3)),\n",
        "    MaxPooling2D(pool_size=(2, 2)),\n",
        "\n",
        "    Conv2D(64, (3, 3), activation='relu'),\n",
        "    MaxPooling2D(pool_size=(2, 2)),\n",
        "\n",
        "    Conv2D(128, (3, 3), activation='relu'),\n",
        "    MaxPooling2D(pool_size=(2, 2)),\n",
        "\n",
        "    Flatten(),  # Flatten the 3D features into a 1D vector\n",
        "    Dense(128, activation='relu'),\n",
        "    Dropout(0.5),  # Dropout to prevent overfitting\n",
        "    Dense(1, activation='sigmoid')  # Output layer with sigmoid for binary classification\n",
        "])\n",
        "\n",
        "# Step 7: Compile the model\n",
        "model.compile(optimizer='adam', loss='binary_crossentropy', metrics=['accuracy'])\n"
      ],
      "metadata": {
        "colab": {
          "base_uri": "https://localhost:8080/"
        },
        "id": "pZatk6hO3IEd",
        "outputId": "7429331b-77b2-46c0-b2b7-966d5fd308b9"
      },
      "execution_count": null,
      "outputs": [
        {
          "output_type": "stream",
          "name": "stderr",
          "text": [
            "/usr/local/lib/python3.10/dist-packages/keras/src/layers/convolutional/base_conv.py:107: UserWarning: Do not pass an `input_shape`/`input_dim` argument to a layer. When using Sequential models, prefer using an `Input(shape)` object as the first layer in the model instead.\n",
            "  super().__init__(activity_regularizer=activity_regularizer, **kwargs)\n"
          ]
        }
      ]
    },
    {
      "cell_type": "code",
      "source": [
        "# Step 8: Define checkpoint to save the best model during training\n",
        "checkpoint_path = '/content/drive/MyDrive/pneumoconiosis_cnn_best_model.keras'\n",
        "checkpoint = ModelCheckpoint(checkpoint_path, monitor='val_accuracy', save_best_only=True, mode='max')\n",
        "\n",
        "# Step 9: Train the model\n",
        "history = model.fit(\n",
        "    train_dataset,  # Training data\n",
        "    validation_data=validation_dataset,  # Validation data\n",
        "    epochs=epochs,  # Number of epochs\n",
        "    callbacks=[checkpoint]  # Save the best model\n",
        ")\n"
      ],
      "metadata": {
        "colab": {
          "base_uri": "https://localhost:8080/"
        },
        "id": "Jgmn8TJC3H4O",
        "outputId": "45b31408-a5d1-4216-9c1b-91115d855dfe"
      },
      "execution_count": null,
      "outputs": [
        {
          "output_type": "stream",
          "name": "stdout",
          "text": [
            "Epoch 1/25\n",
            "\u001b[1m47/47\u001b[0m \u001b[32m━━━━━━━━━━━━━━━━━━━━\u001b[0m\u001b[37m\u001b[0m \u001b[1m111s\u001b[0m 2s/step - accuracy: 0.5561 - loss: 35.1818 - val_accuracy: 0.7287 - val_loss: 0.5465\n",
            "Epoch 2/25\n",
            "\u001b[1m47/47\u001b[0m \u001b[32m━━━━━━━━━━━━━━━━━━━━\u001b[0m\u001b[37m\u001b[0m \u001b[1m58s\u001b[0m 1s/step - accuracy: 0.6716 - loss: 0.5760 - val_accuracy: 0.6862 - val_loss: 0.5837\n",
            "Epoch 3/25\n",
            "\u001b[1m47/47\u001b[0m \u001b[32m━━━━━━━━━━━━━━━━━━━━\u001b[0m\u001b[37m\u001b[0m \u001b[1m66s\u001b[0m 1s/step - accuracy: 0.6699 - loss: 0.5758 - val_accuracy: 0.6543 - val_loss: 0.5551\n",
            "Epoch 4/25\n",
            "\u001b[1m47/47\u001b[0m \u001b[32m━━━━━━━━━━━━━━━━━━━━\u001b[0m\u001b[37m\u001b[0m \u001b[1m57s\u001b[0m 1s/step - accuracy: 0.6959 - loss: 0.6731 - val_accuracy: 0.6755 - val_loss: 0.5651\n",
            "Epoch 5/25\n",
            "\u001b[1m47/47\u001b[0m \u001b[32m━━━━━━━━━━━━━━━━━━━━\u001b[0m\u001b[37m\u001b[0m \u001b[1m66s\u001b[0m 1s/step - accuracy: 0.6335 - loss: 0.5837 - val_accuracy: 0.7500 - val_loss: 0.5119\n",
            "Epoch 6/25\n",
            "\u001b[1m47/47\u001b[0m \u001b[32m━━━━━━━━━━━━━━━━━━━━\u001b[0m\u001b[37m\u001b[0m \u001b[1m56s\u001b[0m 1s/step - accuracy: 0.6846 - loss: 0.5849 - val_accuracy: 0.7340 - val_loss: 0.4918\n",
            "Epoch 7/25\n",
            "\u001b[1m47/47\u001b[0m \u001b[32m━━━━━━━━━━━━━━━━━━━━\u001b[0m\u001b[37m\u001b[0m \u001b[1m58s\u001b[0m 1s/step - accuracy: 0.6781 - loss: 0.5666 - val_accuracy: 0.6809 - val_loss: 0.5045\n",
            "Epoch 8/25\n",
            "\u001b[1m47/47\u001b[0m \u001b[32m━━━━━━━━━━━━━━━━━━━━\u001b[0m\u001b[37m\u001b[0m \u001b[1m56s\u001b[0m 1s/step - accuracy: 0.6823 - loss: 0.5404 - val_accuracy: 0.6596 - val_loss: 0.5830\n",
            "Epoch 9/25\n",
            "\u001b[1m47/47\u001b[0m \u001b[32m━━━━━━━━━━━━━━━━━━━━\u001b[0m\u001b[37m\u001b[0m \u001b[1m83s\u001b[0m 1s/step - accuracy: 0.6716 - loss: 0.5590 - val_accuracy: 0.6702 - val_loss: 0.5603\n",
            "Epoch 10/25\n",
            "\u001b[1m47/47\u001b[0m \u001b[32m━━━━━━━━━━━━━━━━━━━━\u001b[0m\u001b[37m\u001b[0m \u001b[1m57s\u001b[0m 1s/step - accuracy: 0.6638 - loss: 0.5835 - val_accuracy: 0.6543 - val_loss: 0.5753\n",
            "Epoch 11/25\n",
            "\u001b[1m47/47\u001b[0m \u001b[32m━━━━━━━━━━━━━━━━━━━━\u001b[0m\u001b[37m\u001b[0m \u001b[1m57s\u001b[0m 1s/step - accuracy: 0.7131 - loss: 0.5522 - val_accuracy: 0.6330 - val_loss: 0.7170\n",
            "Epoch 12/25\n",
            "\u001b[1m47/47\u001b[0m \u001b[32m━━━━━━━━━━━━━━━━━━━━\u001b[0m\u001b[37m\u001b[0m \u001b[1m57s\u001b[0m 1s/step - accuracy: 0.7075 - loss: 0.4709 - val_accuracy: 0.7021 - val_loss: 0.5235\n",
            "Epoch 13/25\n",
            "\u001b[1m47/47\u001b[0m \u001b[32m━━━━━━━━━━━━━━━━━━━━\u001b[0m\u001b[37m\u001b[0m \u001b[1m60s\u001b[0m 1s/step - accuracy: 0.6965 - loss: 0.5379 - val_accuracy: 0.6489 - val_loss: 0.5672\n",
            "Epoch 14/25\n",
            "\u001b[1m47/47\u001b[0m \u001b[32m━━━━━━━━━━━━━━━━━━━━\u001b[0m\u001b[37m\u001b[0m \u001b[1m57s\u001b[0m 1s/step - accuracy: 0.6247 - loss: 0.6181 - val_accuracy: 0.5745 - val_loss: 0.9432\n",
            "Epoch 15/25\n",
            "\u001b[1m47/47\u001b[0m \u001b[32m━━━━━━━━━━━━━━━━━━━━\u001b[0m\u001b[37m\u001b[0m \u001b[1m55s\u001b[0m 1s/step - accuracy: 0.6763 - loss: 0.6042 - val_accuracy: 0.6596 - val_loss: 0.5420\n",
            "Epoch 16/25\n",
            "\u001b[1m47/47\u001b[0m \u001b[32m━━━━━━━━━━━━━━━━━━━━\u001b[0m\u001b[37m\u001b[0m \u001b[1m58s\u001b[0m 1s/step - accuracy: 0.6449 - loss: 0.5974 - val_accuracy: 0.7074 - val_loss: 0.5705\n",
            "Epoch 17/25\n",
            "\u001b[1m47/47\u001b[0m \u001b[32m━━━━━━━━━━━━━━━━━━━━\u001b[0m\u001b[37m\u001b[0m \u001b[1m55s\u001b[0m 1s/step - accuracy: 0.6535 - loss: 0.6174 - val_accuracy: 0.7128 - val_loss: 0.5248\n",
            "Epoch 18/25\n",
            "\u001b[1m47/47\u001b[0m \u001b[32m━━━━━━━━━━━━━━━━━━━━\u001b[0m\u001b[37m\u001b[0m \u001b[1m57s\u001b[0m 1s/step - accuracy: 0.6651 - loss: 0.7409 - val_accuracy: 0.6968 - val_loss: 0.5515\n",
            "Epoch 19/25\n",
            "\u001b[1m47/47\u001b[0m \u001b[32m━━━━━━━━━━━━━━━━━━━━\u001b[0m\u001b[37m\u001b[0m \u001b[1m80s\u001b[0m 1s/step - accuracy: 0.6649 - loss: 0.5934 - val_accuracy: 0.6436 - val_loss: 0.5813\n",
            "Epoch 20/25\n",
            "\u001b[1m47/47\u001b[0m \u001b[32m━━━━━━━━━━━━━━━━━━━━\u001b[0m\u001b[37m\u001b[0m \u001b[1m58s\u001b[0m 1s/step - accuracy: 0.6511 - loss: 0.6138 - val_accuracy: 0.7074 - val_loss: 0.5445\n",
            "Epoch 21/25\n",
            "\u001b[1m47/47\u001b[0m \u001b[32m━━━━━━━━━━━━━━━━━━━━\u001b[0m\u001b[37m\u001b[0m \u001b[1m55s\u001b[0m 1s/step - accuracy: 0.6410 - loss: 0.6727 - val_accuracy: 0.6436 - val_loss: 0.6039\n",
            "Epoch 22/25\n",
            "\u001b[1m47/47\u001b[0m \u001b[32m━━━━━━━━━━━━━━━━━━━━\u001b[0m\u001b[37m\u001b[0m \u001b[1m62s\u001b[0m 1s/step - accuracy: 0.5745 - loss: 0.6690 - val_accuracy: 0.6277 - val_loss: 0.6375\n",
            "Epoch 23/25\n",
            "\u001b[1m47/47\u001b[0m \u001b[32m━━━━━━━━━━━━━━━━━━━━\u001b[0m\u001b[37m\u001b[0m \u001b[1m61s\u001b[0m 1s/step - accuracy: 0.5857 - loss: 0.6677 - val_accuracy: 0.6702 - val_loss: 0.6127\n",
            "Epoch 24/25\n",
            "\u001b[1m47/47\u001b[0m \u001b[32m━━━━━━━━━━━━━━━━━━━━\u001b[0m\u001b[37m\u001b[0m \u001b[1m57s\u001b[0m 1s/step - accuracy: 0.6166 - loss: 0.6208 - val_accuracy: 0.6702 - val_loss: 0.5839\n",
            "Epoch 25/25\n",
            "\u001b[1m47/47\u001b[0m \u001b[32m━━━━━━━━━━━━━━━━━━━━\u001b[0m\u001b[37m\u001b[0m \u001b[1m56s\u001b[0m 1s/step - accuracy: 0.6461 - loss: 0.5949 - val_accuracy: 0.6277 - val_loss: 0.5602\n"
          ]
        }
      ]
    },
    {
      "cell_type": "code",
      "source": [
        "# Step 10: Plot the training and validation accuracy/loss\n",
        "plt.plot(history.history['accuracy'], label='accuracy')\n",
        "plt.plot(history.history['val_accuracy'], label='val_accuracy')\n",
        "plt.xlabel('Epoch')\n",
        "plt.ylabel('Accuracy')\n",
        "plt.ylim([0, 1])\n",
        "plt.legend(loc='lower right')\n",
        "plt.show()\n"
      ],
      "metadata": {
        "colab": {
          "base_uri": "https://localhost:8080/",
          "height": 455
        },
        "id": "4TDPsBR63iPd",
        "outputId": "09711f87-e05d-4d18-b262-4541bcaf81ce"
      },
      "execution_count": null,
      "outputs": [
        {
          "output_type": "display_data",
          "data": {
            "text/plain": [
              "<Figure size 640x480 with 1 Axes>"
            ],
            "image/png": "[encoded data removed]"
          },
          "metadata": {}
        }
      ]
    },
    {
      "cell_type": "code",
      "source": [
        "# Step 11: Load the best saved model from Google Drive\n",
        "model = tf.keras.models.load_model(checkpoint_path)\n"
      ],
      "metadata": {
        "id": "-lEhFLbs3iGV"
      },
      "execution_count": null,
      "outputs": []
    },
    {
      "cell_type": "code",
      "source": [
        "# Step 12: Predict function for a single image\n",
        "def predict_image(img_path):\n",
        "    img = tf.keras.utils.load_img(img_path, target_size=(img_width, img_height))\n",
        "    img_tensor = tf.keras.utils.img_to_array(img)\n",
        "    img_tensor = np.expand_dims(img_tensor, axis=0)\n",
        "    img_tensor /= 255.0  # Normalize the image to 0-1 range\n",
        "\n",
        "    prediction = model.predict(img_tensor)\n",
        "    if prediction[0] > 0.5:\n",
        "        print(\"Predicted: Infected\")\n",
        "    else:\n",
        "        print(\"Predicted: Non-Infected\")\n",
        "\n",
        "# Example usage of prediction\n",
        "predict_image('/content/drive/My Drive/.jpg')\n"
      ],
      "metadata": {
        "colab": {
          "base_uri": "https://localhost:8080/"
        },
        "id": "Gum-zkx93h59",
        "outputId": "a4f9c5cb-0252-4288-cdef-5ac25641fb7d"
      },
      "execution_count": null,
      "outputs": [
        {
          "output_type": "stream",
          "name": "stdout",
          "text": [
            "\u001b[1m1/1\u001b[0m \u001b[32m━━━━━━━━━━━━━━━━━━━━\u001b[0m\u001b[37m\u001b[0m \u001b[1m0s\u001b[0m 50ms/step\n",
            "Predicted: Non-Infected\n"
          ]
        }
      ]
    },
    {
      "cell_type": "code",
      "source": [],
      "metadata": {
        "id": "iEBe0Eps3reN"
      },
      "execution_count": null,
      "outputs": []
    },
    {
      "cell_type": "code",
      "source": [],
      "metadata": {
        "id": "5Y0nP-Qd3rGt"
      },
      "execution_count": null,
      "outputs": []
    },
    {
      "cell_type": "code",
      "source": [],
      "metadata": {
        "id": "yeo4_QYD3qnm"
      },
      "execution_count": null,
      "outputs": []
    }
  ]
}